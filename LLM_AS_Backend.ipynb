{
 "cells": [
  {
   "cell_type": "markdown",
   "id": "df83105b",
   "metadata": {},
   "source": [
    "# 0-Basic"
   ]
  },
  {
   "cell_type": "code",
   "execution_count": 2,
   "id": "3966a056",
   "metadata": {},
   "outputs": [],
   "source": [
    "\n",
    "import os\n",
    "import tiktoken\n",
    "import openai\n",
    "\n",
    "client = openai.OpenAI(\n",
    "    base_url=\"http://localhost:11434/v1\",\n",
    "    api_key=\"nokeyneeded\",\n",
    ")\n",
    "\n"
   ]
  },
  {
   "cell_type": "code",
   "execution_count": 3,
   "id": "b4369a5d",
   "metadata": {},
   "outputs": [],
   "source": [
    "def get_completion_and_token_count(messages, \n",
    "                                   model=\"Eomer/gpt-3.5-turbo:latest\", \n",
    "                                   temperature=0, \n",
    "                                   max_tokens=500):\n",
    "    \n",
    "    response = client.chat.completions.create(\n",
    "        model=model,\n",
    "        messages=messages,\n",
    "        temperature=temperature, \n",
    "        max_tokens=max_tokens,\n",
    "    )\n",
    "    \n",
    "    content = response.choices[0].message.content\n",
    "    \n",
    "    token_dict = {\n",
    "'prompt_tokens':response.usage.prompt_tokens,\n",
    "'completion_tokens':response.usage.completion_tokens,\n",
    "'total_tokens':response.usage.total_tokens,\n",
    "    }\n",
    "\n",
    "    return content, token_dict"
   ]
  },
  {
   "cell_type": "code",
   "execution_count": 4,
   "id": "87111e67",
   "metadata": {},
   "outputs": [
    {
     "name": "stdout",
     "output_type": "stream",
     "text": [
      "[83, 1609, 5963, 374, 2294, 0]\n"
     ]
    }
   ],
   "source": [
    "\n",
    "encoding = tiktoken.encoding_for_model('gpt-3.5-turbo')\n",
    "print(encoding.encode(\"tiktoken is great!\"))"
   ]
  },
  {
   "cell_type": "code",
   "execution_count": 5,
   "id": "50d5e66c",
   "metadata": {},
   "outputs": [
    {
     "data": {
      "text/plain": [
       "6"
      ]
     },
     "execution_count": 5,
     "metadata": {},
     "output_type": "execute_result"
    }
   ],
   "source": [
    "len(encoding.encode(\"tiktoken is great!\"))"
   ]
  },
  {
   "cell_type": "code",
   "execution_count": 6,
   "id": "69afa5a6",
   "metadata": {},
   "outputs": [
    {
     "data": {
      "text/plain": [
       "[b't', b'ik', b'token', b' is', b' great', b'!']"
      ]
     },
     "execution_count": 6,
     "metadata": {},
     "output_type": "execute_result"
    }
   ],
   "source": [
    "[encoding.decode_single_token_bytes(token) for token in [83, 1609, 5963, 374, 2294, 0]]\n"
   ]
  },
  {
   "cell_type": "code",
   "execution_count": 7,
   "id": "8ce3e82e",
   "metadata": {},
   "outputs": [
    {
     "name": "stdout",
     "output_type": "stream",
     "text": [
      "Oh, what a lovely sight!\n",
      "A happy carrot, so bright and light.\n",
      "It's orange and yellow and green, oh my!\n",
      "It's a vegetable that makes me feel spry! 🥕\n",
      "\n",
      "{'prompt_tokens': 46, 'completion_tokens': 52, 'total_tokens': 98}\n"
     ]
    }
   ],
   "source": [
    "messages = [\n",
    "{'role':'system', \n",
    " 'content':\"\"\"You are an assistant who responds in the style of Mary Poppins\"\"\"},    \n",
    "{'role':'user',\n",
    " 'content':\"\"\"write me a very short poem about a happy carrot\"\"\"},  \n",
    "] \n",
    "response, token_dict = get_completion_and_token_count(messages)\n",
    "print(response)\n",
    "print()\n",
    "print(token_dict)"
   ]
  },
  {
   "cell_type": "code",
   "execution_count": 9,
   "id": "683673d5",
   "metadata": {},
   "outputs": [
    {
     "name": "stdout",
     "output_type": "stream",
     "text": [
      "__annotations__\n",
      "__class__\n",
      "__class_getitem__\n",
      "__delattr__\n",
      "__dict__\n",
      "__dir__\n",
      "__doc__\n",
      "__enter__\n",
      "__eq__\n",
      "__exit__\n",
      "__format__\n",
      "__ge__\n",
      "__getattribute__\n",
      "__getstate__\n",
      "__gt__\n",
      "__hash__\n",
      "__init__\n",
      "__init_subclass__\n",
      "__le__\n",
      "__lt__\n",
      "__module__\n",
      "__ne__\n",
      "__new__\n",
      "__orig_bases__\n",
      "__parameters__\n",
      "__reduce__\n",
      "__reduce_ex__\n",
      "__repr__\n",
      "__setattr__\n",
      "__sizeof__\n",
      "__str__\n",
      "__subclasshook__\n",
      "__weakref__\n",
      "_base_url\n",
      "_build_headers\n",
      "_build_request\n",
      "_calculate_retry_timeout\n",
      "_client\n",
      "_custom_headers\n",
      "_custom_query\n",
      "_default_stream_cls\n",
      "_enforce_trailing_slash\n",
      "_idempotency_header\n",
      "_idempotency_key\n",
      "_make_sse_decoder\n",
      "_make_status_error\n",
      "_make_status_error_from_response\n",
      "_maybe_override_cast_to\n",
      "_parse_retry_after_header\n",
      "_platform\n",
      "_prepare_options\n",
      "_prepare_request\n",
      "_prepare_url\n",
      "_process_response\n",
      "_process_response_data\n",
      "_request\n",
      "_request_api_list\n",
      "_retry_request\n",
      "_serialize_multipartform\n",
      "_should_retry\n",
      "_should_stream_response_body\n",
      "_strict_response_validation\n",
      "_validate_headers\n",
      "_version\n",
      "api_key\n",
      "audio\n",
      "auth_headers\n",
      "base_url\n",
      "batches\n",
      "beta\n",
      "chat\n",
      "close\n",
      "completions\n",
      "copy\n",
      "custom_auth\n",
      "default_headers\n",
      "default_query\n",
      "delete\n",
      "embeddings\n",
      "files\n",
      "fine_tuning\n",
      "get\n",
      "get_api_list\n",
      "images\n",
      "is_closed\n",
      "max_retries\n",
      "models\n",
      "moderations\n",
      "organization\n",
      "patch\n",
      "platform_headers\n",
      "post\n",
      "project\n",
      "put\n",
      "qs\n",
      "request\n",
      "responses\n",
      "timeout\n",
      "uploads\n",
      "user_agent\n",
      "vector_stores\n",
      "websocket_base_url\n",
      "with_options\n",
      "with_raw_response\n",
      "with_streaming_response\n"
     ]
    }
   ],
   "source": [
    "for attr in dir(client):\n",
    "    print(attr)\n"
   ]
  },
  {
   "cell_type": "code",
   "execution_count": 10,
   "id": "e65372ed",
   "metadata": {},
   "outputs": [
    {
     "name": "stdout",
     "output_type": "stream",
     "text": [
      "__annotations__\n",
      "__class__\n",
      "__delattr__\n",
      "__dict__\n",
      "__dir__\n",
      "__doc__\n",
      "__eq__\n",
      "__format__\n",
      "__ge__\n",
      "__getattribute__\n",
      "__getstate__\n",
      "__gt__\n",
      "__hash__\n",
      "__init__\n",
      "__init_subclass__\n",
      "__le__\n",
      "__lt__\n",
      "__module__\n",
      "__ne__\n",
      "__new__\n",
      "__reduce__\n",
      "__reduce_ex__\n",
      "__repr__\n",
      "__setattr__\n",
      "__sizeof__\n",
      "__str__\n",
      "__subclasshook__\n",
      "__weakref__\n",
      "_client\n",
      "_delete\n",
      "_get\n",
      "_get_api_list\n",
      "_patch\n",
      "_post\n",
      "_put\n",
      "_sleep\n",
      "completions\n",
      "with_raw_response\n",
      "with_streaming_response\n"
     ]
    }
   ],
   "source": [
    "for attr in dir(client.chat):\n",
    "    print(attr)\n"
   ]
  },
  {
   "cell_type": "code",
   "execution_count": 11,
   "id": "ce66966e",
   "metadata": {},
   "outputs": [
    {
     "name": "stdout",
     "output_type": "stream",
     "text": [
      "__annotations__\n",
      "__class__\n",
      "__delattr__\n",
      "__dict__\n",
      "__dir__\n",
      "__doc__\n",
      "__eq__\n",
      "__format__\n",
      "__ge__\n",
      "__getattribute__\n",
      "__getstate__\n",
      "__gt__\n",
      "__hash__\n",
      "__init__\n",
      "__init_subclass__\n",
      "__le__\n",
      "__lt__\n",
      "__module__\n",
      "__ne__\n",
      "__new__\n",
      "__reduce__\n",
      "__reduce_ex__\n",
      "__repr__\n",
      "__setattr__\n",
      "__sizeof__\n",
      "__str__\n",
      "__subclasshook__\n",
      "__weakref__\n",
      "_client\n",
      "_delete\n",
      "_get\n",
      "_get_api_list\n",
      "_patch\n",
      "_post\n",
      "_put\n",
      "_sleep\n",
      "speech\n",
      "transcriptions\n",
      "translations\n",
      "with_raw_response\n",
      "with_streaming_response\n"
     ]
    }
   ],
   "source": [
    "for attr in dir(client.audio):\n",
    "    print(attr)"
   ]
  },
  {
   "cell_type": "markdown",
   "id": "d6471d43",
   "metadata": {},
   "source": [
    "# 1-classification\n"
   ]
  },
  {
   "cell_type": "code",
   "execution_count": 1,
   "id": "6011e5db",
   "metadata": {},
   "outputs": [],
   "source": [
    "\n",
    "import os\n",
    "\n",
    "import openai\n",
    "\n",
    "client = openai.OpenAI(\n",
    "    base_url=\"http://localhost:11434/v1\",\n",
    "    api_key=\"nokeyneeded\",\n",
    ")\n",
    "\n",
    "def get_completion_from_messages(messages, \n",
    "                                 model=\"chevalblanc/gpt-4o-mini\", \n",
    "                                 temperature=0, \n",
    "                                 max_tokens=500):\n",
    "    response = client.chat.completions.create(\n",
    "        model=model,\n",
    "        messages=messages,\n",
    "        temperature=temperature, \n",
    "        max_tokens=max_tokens,\n",
    "    )\n",
    "    return response.choices[0].message.content"
   ]
  },
  {
   "cell_type": "code",
   "execution_count": 2,
   "id": "113b9d3f",
   "metadata": {},
   "outputs": [
    {
     "name": "stdout",
     "output_type": "stream",
     "text": [
      "primary: Account Management\n",
      "secondary: Close account\n"
     ]
    }
   ],
   "source": [
    "#### Classify customer queries to handle different cases\n",
    "\n",
    "delimiter = \"####\"\n",
    "\n",
    "system_message = f\"\"\"\n",
    "You will be provided with customer service queries.\n",
    "\n",
    "The customer service query will be delimited with {delimiter} characters.\n",
    "\n",
    "Classify each query into a primary category and a secondary category. \n",
    "\n",
    "Provide your output in json format with the keys: primary and secondary.\n",
    "\n",
    "Primary categories: Billing, Technical Support, Account Management, or General Inquiry.\n",
    "\n",
    "Billing secondary categories:\n",
    "Unsubscribe or upgrade\n",
    "Add a payment method\n",
    "Explanation for charge\n",
    "Dispute a charge\n",
    "\n",
    "Technical Support secondary categories:\n",
    "General troubleshooting\n",
    "Device compatibility\n",
    "Software updates\n",
    "\n",
    "Account Management secondary categories:\n",
    "Password reset\n",
    "Update personal information\n",
    "Close account\n",
    "Account security\n",
    "\n",
    "General Inquiry secondary categories:\n",
    "Product information\n",
    "Pricing\n",
    "Feedback\n",
    "Speak to a human\n",
    "\n",
    "\"\"\"\n",
    "\n",
    "user_message = f\"\"\"\n",
    "I want you to delete my profile and all of my user data\"\"\"\n",
    "\n",
    "messages =  [  \n",
    "{'role':'system', \n",
    " 'content': system_message},    \n",
    "{'role':'user', \n",
    " 'content': f\"{delimiter}{user_message}{delimiter}\"},  \n",
    "] \n",
    "response = get_completion_from_messages(messages)\n",
    "print(response)"
   ]
  },
  {
   "cell_type": "code",
   "execution_count": 4,
   "id": "3c1d2627",
   "metadata": {},
   "outputs": [
    {
     "name": "stdout",
     "output_type": "stream",
     "text": [
      "Primary category: Product Information\n",
      "Secondary Category: General Inquiry\n"
     ]
    }
   ],
   "source": [
    "user_message = f\"\"\"\n",
    "Tell me more about your flat screen tvs\"\"\"\n",
    "\n",
    "messages =  [  \n",
    "{'role':'system', \n",
    " 'content': system_message},    \n",
    "{'role':'user', \n",
    " 'content': f\"{delimiter}{user_message}{delimiter}\"},  \n",
    "] \n",
    "response = get_completion_from_messages(messages)\n",
    "print(response)"
   ]
  },
  {
   "cell_type": "code",
   "execution_count": null,
   "id": "9870a1d6",
   "metadata": {},
   "outputs": [],
   "source": []
  },
  {
   "cell_type": "code",
   "execution_count": null,
   "id": "ebefd273",
   "metadata": {},
   "outputs": [],
   "source": []
  }
 ],
 "metadata": {
  "kernelspec": {
   "display_name": ".venv",
   "language": "python",
   "name": "python3"
  },
  "language_info": {
   "codemirror_mode": {
    "name": "ipython",
    "version": 3
   },
   "file_extension": ".py",
   "mimetype": "text/x-python",
   "name": "python",
   "nbconvert_exporter": "python",
   "pygments_lexer": "ipython3",
   "version": "3.12.3"
  }
 },
 "nbformat": 4,
 "nbformat_minor": 5
}
